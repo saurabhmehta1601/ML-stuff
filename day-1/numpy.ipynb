{
 "cells": [
  {
   "cell_type": "markdown",
   "id": "ac2ef04d-aef8-420e-a8ea-e4fb6a3e1456",
   "metadata": {},
   "source": [
    "\n",
    "# Numpy\n",
    "\n",
    "## Why numpy ?? \n",
    "\n",
    "* Faster to read since no typeschecking needed for numpy array because all are same type\n",
    "* Native array is faster than list\n",
    "* Contiguous memory allocation unlike list"
   ]
  },
  {
   "cell_type": "code",
   "execution_count": 2,
   "id": "1e85d7b0-ffab-451f-8719-fedadb31db22",
   "metadata": {},
   "outputs": [],
   "source": [
    "import numpy as np"
   ]
  },
  {
   "cell_type": "code",
   "execution_count": 9,
   "id": "0d7a6df8-68c5-4a6b-9572-883f424996d6",
   "metadata": {},
   "outputs": [
    {
     "name": "stdout",
     "output_type": "stream",
     "text": [
      "[1 2 4]\n"
     ]
    }
   ],
   "source": [
    "a = np.array([1,2,4])\n",
    "print(a)"
   ]
  },
  {
   "cell_type": "code",
   "execution_count": 79,
   "id": "a5f1d53c-f1d2-42da-95ee-0f3206468554",
   "metadata": {},
   "outputs": [
    {
     "data": {
      "text/plain": [
       "array([[0, 1, 2, 3, 4],\n",
       "       [5, 6, 7, 8, 9]])"
      ]
     },
     "execution_count": 79,
     "metadata": {},
     "output_type": "execute_result"
    }
   ],
   "source": [
    "# multidimension array \n",
    "b = np.array([[0,1,2,3,4],[5,6,7,8,9]])\n",
    "b"
   ]
  },
  {
   "cell_type": "code",
   "execution_count": 44,
   "id": "389e4bc0-159c-4e44-99c8-97fe20b45904",
   "metadata": {},
   "outputs": [
    {
     "data": {
      "text/plain": [
       "(2, 5)"
      ]
     },
     "execution_count": 44,
     "metadata": {},
     "output_type": "execute_result"
    }
   ],
   "source": [
    "# array shape\n",
    "b.shape "
   ]
  },
  {
   "cell_type": "code",
   "execution_count": 45,
   "id": "a4c1cb62-8590-4640-9659-83a95ef1ce5c",
   "metadata": {},
   "outputs": [
    {
     "data": {
      "text/plain": [
       "2"
      ]
     },
     "execution_count": 45,
     "metadata": {},
     "output_type": "execute_result"
    }
   ],
   "source": [
    "# array dimensions \n",
    "b.ndim"
   ]
  },
  {
   "cell_type": "code",
   "execution_count": 46,
   "id": "3967f8e4-103e-4813-8bce-ff733890e6c1",
   "metadata": {},
   "outputs": [
    {
     "data": {
      "text/plain": [
       "dtype('int64')"
      ]
     },
     "execution_count": 46,
     "metadata": {},
     "output_type": "execute_result"
    }
   ],
   "source": [
    "# array data type\n",
    "b.dtype"
   ]
  },
  {
   "cell_type": "code",
   "execution_count": 47,
   "id": "0bdf6fca-26f9-42e5-b7e2-40d82b911369",
   "metadata": {},
   "outputs": [
    {
     "data": {
      "text/plain": [
       "8"
      ]
     },
     "execution_count": 47,
     "metadata": {},
     "output_type": "execute_result"
    }
   ],
   "source": [
    "# Elements size in array\n",
    "b.itemsize"
   ]
  },
  {
   "cell_type": "code",
   "execution_count": 48,
   "id": "3a035787-60ce-4ae8-8b89-817d4e3eaf82",
   "metadata": {},
   "outputs": [
    {
     "data": {
      "text/plain": [
       "10"
      ]
     },
     "execution_count": 48,
     "metadata": {},
     "output_type": "execute_result"
    }
   ],
   "source": [
    "# Total elements in array \n",
    "b.size"
   ]
  },
  {
   "cell_type": "code",
   "execution_count": 49,
   "id": "efc27b6d-f63a-4098-942d-4621d343a2a1",
   "metadata": {},
   "outputs": [
    {
     "data": {
      "text/plain": [
       "20"
      ]
     },
     "execution_count": 49,
     "metadata": {},
     "output_type": "execute_result"
    }
   ],
   "source": [
    "# Total array size\n",
    "b.size * a.itemsize "
   ]
  },
  {
   "cell_type": "code",
   "execution_count": 50,
   "id": "9b53014b-aace-4862-ae2c-e31755c6bcfd",
   "metadata": {},
   "outputs": [
    {
     "data": {
      "text/plain": [
       "80"
      ]
     },
     "execution_count": 50,
     "metadata": {},
     "output_type": "execute_result"
    }
   ],
   "source": [
    "# Total array size\n",
    "b.nbytes"
   ]
  },
  {
   "cell_type": "code",
   "execution_count": 52,
   "id": "de375a1c-80b3-4728-b2d8-5d9615295864",
   "metadata": {},
   "outputs": [
    {
     "data": {
      "text/plain": [
       "2"
      ]
     },
     "execution_count": 52,
     "metadata": {},
     "output_type": "execute_result"
    }
   ],
   "source": [
    "# manually defining data type\n",
    "a = np.array([1,2,4,5] , dtype= 'int16')\n",
    "a.itemsize "
   ]
  },
  {
   "cell_type": "code",
   "execution_count": 53,
   "id": "f8b010af-762d-4448-b659-5cfa2821ee98",
   "metadata": {},
   "outputs": [
    {
     "data": {
      "text/plain": [
       "6"
      ]
     },
     "execution_count": 53,
     "metadata": {},
     "output_type": "execute_result"
    }
   ],
   "source": [
    "# Get specific item \n",
    "b[1][1] "
   ]
  },
  {
   "cell_type": "code",
   "execution_count": 56,
   "id": "1d48a81f-f69f-44a8-a003-ad59a8e6a862",
   "metadata": {},
   "outputs": [
    {
     "data": {
      "text/plain": [
       "9"
      ]
     },
     "execution_count": 56,
     "metadata": {},
     "output_type": "execute_result"
    }
   ],
   "source": [
    "# Get specific item with negative index \n",
    "b[1][-1]  # -1 represents first element from last"
   ]
  },
  {
   "cell_type": "code",
   "execution_count": 54,
   "id": "9552d0a2-0f3a-4899-a056-60f0d21d78af",
   "metadata": {},
   "outputs": [
    {
     "data": {
      "text/plain": [
       "array([0, 1, 2, 3, 4])"
      ]
     },
     "execution_count": 54,
     "metadata": {},
     "output_type": "execute_result"
    }
   ],
   "source": [
    "# Get specific row\n",
    "b[0 , :]"
   ]
  },
  {
   "cell_type": "code",
   "execution_count": 57,
   "id": "dbaebf65-dd10-46f8-b66c-ac5f8e938b95",
   "metadata": {},
   "outputs": [
    {
     "data": {
      "text/plain": [
       "array([0, 5])"
      ]
     },
     "execution_count": 57,
     "metadata": {},
     "output_type": "execute_result"
    }
   ],
   "source": [
    "# Get specific column\n",
    "b[ : , 0]"
   ]
  },
  {
   "cell_type": "code",
   "execution_count": 62,
   "id": "27b47bc2-435e-4b9f-b012-888c4770fbfc",
   "metadata": {},
   "outputs": [
    {
     "data": {
      "text/plain": [
       "array([0, 2, 4])"
      ]
     },
     "execution_count": 62,
     "metadata": {},
     "output_type": "execute_result"
    }
   ],
   "source": [
    "# get numbers leaving steps \n",
    "b[0 , 0:5:2]"
   ]
  },
  {
   "cell_type": "code",
   "execution_count": 68,
   "id": "9db86eb1-2903-46d5-b188-21caabc9c96a",
   "metadata": {},
   "outputs": [
    {
     "data": {
      "text/plain": [
       "array([[100,   1,   2,   3,   4],\n",
       "       [  5,   6,   7,   8,   9]])"
      ]
     },
     "execution_count": 68,
     "metadata": {},
     "output_type": "execute_result"
    }
   ],
   "source": [
    "# updating single number\n",
    "b[0,0] = 100\n",
    "b"
   ]
  },
  {
   "cell_type": "code",
   "execution_count": 70,
   "id": "67bb847f-08d4-49bd-bf0a-8b5030ae9634",
   "metadata": {},
   "outputs": [
    {
     "data": {
      "text/plain": [
       "array([[100, 100, 100, 100, 100],\n",
       "       [  5,   6,   7,   8,   9]])"
      ]
     },
     "execution_count": 70,
     "metadata": {},
     "output_type": "execute_result"
    }
   ],
   "source": [
    "# updating single row\n",
    "b[0,:] = 100\n",
    "b"
   ]
  },
  {
   "cell_type": "code",
   "execution_count": null,
   "id": "68b0dcf1-85e2-47bc-a28b-4308ecac8efe",
   "metadata": {},
   "outputs": [],
   "source": [
    "# updating single column\n",
    "b[:,0] = 100\n",
    "b"
   ]
  },
  {
   "cell_type": "markdown",
   "id": "2ca65121-cde2-46d9-a8dd-5180386bdb97",
   "metadata": {},
   "source": [
    "## 3D Arrays"
   ]
  },
  {
   "cell_type": "code",
   "execution_count": 82,
   "id": "03a0d884-e20f-482e-9536-65821c52237f",
   "metadata": {},
   "outputs": [
    {
     "name": "stdout",
     "output_type": "stream",
     "text": [
      "[[[1 2]\n",
      "  [3 4]]\n",
      "\n",
      " [[5 6]\n",
      "  [7 8]]]\n"
     ]
    }
   ],
   "source": [
    "c = np.array([[[1,2],[3,4]],[[5,6],[7,8]]])\n",
    "print(c)"
   ]
  },
  {
   "cell_type": "code",
   "execution_count": 84,
   "id": "89c63cb0-0909-408d-a2ae-48e28112737c",
   "metadata": {},
   "outputs": [
    {
     "data": {
      "text/plain": [
       "array([[3, 4],\n",
       "       [7, 8]])"
      ]
     },
     "execution_count": 84,
     "metadata": {},
     "output_type": "execute_result"
    }
   ],
   "source": [
    "c[:,1,:]"
   ]
  },
  {
   "cell_type": "code",
   "execution_count": 88,
   "id": "335dc1be-0427-4a27-9bd5-01c7802f548d",
   "metadata": {},
   "outputs": [
    {
     "data": {
      "text/plain": [
       "array([[[0., 0., 0.],\n",
       "        [0., 0., 0.],\n",
       "        [0., 0., 0.]],\n",
       "\n",
       "       [[0., 0., 0.],\n",
       "        [0., 0., 0.],\n",
       "        [0., 0., 0.]]])"
      ]
     },
     "execution_count": 88,
     "metadata": {},
     "output_type": "execute_result"
    }
   ],
   "source": [
    "# All 0s matrix\n",
    "np.zeros((2,3,3))"
   ]
  },
  {
   "cell_type": "code",
   "execution_count": 91,
   "id": "148b496d-f1da-4249-b049-12f485617119",
   "metadata": {},
   "outputs": [
    {
     "data": {
      "text/plain": [
       "array([[[1, 1, 1],\n",
       "        [1, 1, 1],\n",
       "        [1, 1, 1]],\n",
       "\n",
       "       [[1, 1, 1],\n",
       "        [1, 1, 1],\n",
       "        [1, 1, 1]],\n",
       "\n",
       "       [[1, 1, 1],\n",
       "        [1, 1, 1],\n",
       "        [1, 1, 1]]], dtype=int16)"
      ]
     },
     "execution_count": 91,
     "metadata": {},
     "output_type": "execute_result"
    }
   ],
   "source": [
    "# All 1s matrix\n",
    "np.ones((3,3,3) , dtype=\"int16\")"
   ]
  },
  {
   "cell_type": "code",
   "execution_count": 94,
   "id": "df75b15d-92ac-4752-bda5-3b8afbcbeaae",
   "metadata": {},
   "outputs": [
    {
     "data": {
      "text/plain": [
       "array([[[66, 66],\n",
       "        [66, 66]],\n",
       "\n",
       "       [[66, 66],\n",
       "        [66, 66]]], dtype=int32)"
      ]
     },
     "execution_count": 94,
     "metadata": {},
     "output_type": "execute_result"
    }
   ],
   "source": [
    "# initialize with any other number\n",
    "np.full((2,2,2), 66 , dtype=\"int32\")"
   ]
  },
  {
   "cell_type": "code",
   "execution_count": 97,
   "id": "5bf86bcd-04c5-4742-b492-171673f67dd4",
   "metadata": {},
   "outputs": [
    {
     "data": {
      "text/plain": [
       "array([5, 5, 5, 5], dtype=int16)"
      ]
     },
     "execution_count": 97,
     "metadata": {},
     "output_type": "execute_result"
    }
   ],
   "source": [
    "# initializing already existing array with  value\n",
    "np.full_like(a , 5)"
   ]
  },
  {
   "cell_type": "code",
   "execution_count": 99,
   "id": "7c3ed85f-a976-4bc5-9bd7-22ab917667a3",
   "metadata": {},
   "outputs": [
    {
     "data": {
      "text/plain": [
       "array([[0.9885468 , 0.85141643, 0.95548073, 0.92585173],\n",
       "       [0.38005048, 0.9496109 , 0.26293787, 0.15084124]])"
      ]
     },
     "execution_count": 99,
     "metadata": {},
     "output_type": "execute_result"
    }
   ],
   "source": [
    "#initialize with random float numbers between 0 and 1.\n",
    "np.random.rand(2,4)"
   ]
  },
  {
   "cell_type": "code",
   "execution_count": 101,
   "id": "f54efb0e-5bb9-4f85-8f0a-b07b9c6d41a0",
   "metadata": {},
   "outputs": [
    {
     "data": {
      "text/plain": [
       "array([[0.08885384, 0.6167025 , 0.31878466, 0.05802974, 0.69896544],\n",
       "       [0.35157304, 0.9239081 , 0.71428129, 0.60658471, 0.78479314]])"
      ]
     },
     "execution_count": 101,
     "metadata": {},
     "output_type": "execute_result"
    }
   ],
   "source": [
    "# if want to initialize with shape (shape is tuple)\n",
    "np.random.random_sample(b.shape)"
   ]
  },
  {
   "cell_type": "code",
   "execution_count": 103,
   "id": "77e659d1-96d9-4d35-952f-25bcad934d09",
   "metadata": {},
   "outputs": [
    {
     "data": {
      "text/plain": [
       "array([[1, 0, 2, 4],\n",
       "       [5, 1, 0, 3],\n",
       "       [1, 6, 6, 5],\n",
       "       [2, 0, 0, 1]])"
      ]
     },
     "execution_count": 103,
     "metadata": {},
     "output_type": "execute_result"
    }
   ],
   "source": [
    "# Random int values if no parameters passed returns single  value\n",
    "np.random.randint(7,size = (4,4)) #  7 here is upper limit"
   ]
  },
  {
   "cell_type": "markdown",
   "id": "88b62e9a-8448-424f-8846-276bed0fc4ab",
   "metadata": {},
   "source": [
    "## Do you really have to remember all these methods 😖, & their parameters ??\n",
    "#### The answer is **NO** , for e.g if you want to know about `np.random.randint` method type `np.random.randint?` to print the docstring .\n"
   ]
  },
  {
   "cell_type": "code",
   "execution_count": 108,
   "id": "738e26bf-62e3-4624-940c-7e00bc9ff328",
   "metadata": {},
   "outputs": [
    {
     "data": {
      "text/plain": [
       "array([[-2,  4,  6,  7],\n",
       "       [ 0, -3,  6,  2],\n",
       "       [ 7,  2, -3,  1],\n",
       "       [ 4, -3, -2,  2]])"
      ]
     },
     "execution_count": 108,
     "metadata": {},
     "output_type": "execute_result"
    }
   ],
   "source": [
    "# Random int values with lower and upper  limit\n",
    "np.random.randint(-3,8,size = (4,4)) "
   ]
  },
  {
   "cell_type": "code",
   "execution_count": 111,
   "id": "31fdeeb9-94fd-445a-96c5-5dc27d18317b",
   "metadata": {},
   "outputs": [
    {
     "data": {
      "text/plain": [
       "array([[1., 0., 0., 0., 0.],\n",
       "       [0., 1., 0., 0., 0.],\n",
       "       [0., 0., 1., 0., 0.],\n",
       "       [0., 0., 0., 1., 0.],\n",
       "       [0., 0., 0., 0., 1.]])"
      ]
     },
     "execution_count": 111,
     "metadata": {},
     "output_type": "execute_result"
    }
   ],
   "source": [
    "#identity matrix\n",
    "np.identity(5)"
   ]
  },
  {
   "cell_type": "code",
   "execution_count": 120,
   "id": "5da82c8c-9825-4a8b-b751-b40c31c76b39",
   "metadata": {},
   "outputs": [
    {
     "data": {
      "text/plain": [
       "array([1, 1, 1, 2, 2, 2, 4, 4, 4])"
      ]
     },
     "execution_count": 120,
     "metadata": {},
     "output_type": "execute_result"
    }
   ],
   "source": [
    "# repeat numbers in array\n",
    "arr = np.array([1,2,4]) # 1D array have only 1 axis\n",
    "np.repeat(arr , 3)"
   ]
  },
  {
   "cell_type": "code",
   "execution_count": 121,
   "id": "64b868be-32cf-40d3-b85a-b5f1b43c0211",
   "metadata": {},
   "outputs": [
    {
     "data": {
      "text/plain": [
       "array([[1, 2, 4],\n",
       "       [1, 2, 4],\n",
       "       [1, 2, 4]])"
      ]
     },
     "execution_count": 121,
     "metadata": {},
     "output_type": "execute_result"
    }
   ],
   "source": [
    "# repeat numbers in array\n",
    "arr = np.array([[1,2,4]]) # 2D matrix have 2 axis \n",
    "np.repeat(arr , 3, axis=0) # repeat but not on same axis"
   ]
  },
  {
   "cell_type": "markdown",
   "id": "e07b649f-5c19-43ca-ab5b-dff46b46ad43",
   "metadata": {},
   "source": [
    "### You should avoid copying arrays directly !!! , see why 🤓"
   ]
  },
  {
   "cell_type": "markdown",
   "id": "11fdc189-3846-4b8b-9e52-65b64f6008f9",
   "metadata": {},
   "source": [
    "#### Incorrect way  👎"
   ]
  },
  {
   "cell_type": "code",
   "execution_count": 131,
   "id": "127b970b-5eba-4f35-ae7e-d3ebb21bfa5f",
   "metadata": {},
   "outputs": [
    {
     "data": {
      "text/plain": [
       "100"
      ]
     },
     "execution_count": 131,
     "metadata": {},
     "output_type": "execute_result"
    }
   ],
   "source": [
    "a = np.array([1,2,3])\n",
    "b = a\n",
    "b[0] = 100 # changing element in copied array\n",
    "a[0]  # it changed in original array too 🤯"
   ]
  },
  {
   "cell_type": "markdown",
   "id": "2499f6a9-4528-4c57-824d-e36d83e47f77",
   "metadata": {},
   "source": [
    "#### Correct Way  👍 "
   ]
  },
  {
   "cell_type": "code",
   "execution_count": 135,
   "id": "51dfea7a-bdd9-48ee-b1f6-a320c7f97f79",
   "metadata": {},
   "outputs": [
    {
     "data": {
      "text/plain": [
       "1"
      ]
     },
     "execution_count": 135,
     "metadata": {},
     "output_type": "execute_result"
    }
   ],
   "source": [
    "a = np.array([1,2,3])\n",
    "b = a.copy()\n",
    "b[0] = 100 # changing copied array\n",
    "a[0]  # original array is same"
   ]
  },
  {
   "cell_type": "markdown",
   "id": "2eac6aba-97e3-4cc1-a6de-73dae933be56",
   "metadata": {},
   "source": [
    "## Mathematics"
   ]
  },
  {
   "cell_type": "code",
   "execution_count": 137,
   "id": "9bc98e75-9802-45b5-bf4b-d6ae7f8d29a7",
   "metadata": {},
   "outputs": [
    {
     "name": "stdout",
     "output_type": "stream",
     "text": [
      "add [3 4 5]\n",
      "multiply [2 4 6]\n",
      "divide [0.5 1.  1.5]\n",
      "subtract [-1  0  1]\n"
     ]
    }
   ],
   "source": [
    "a = np.array([1,2,3])\n",
    "print(\"add\", a + 2)\n",
    "print(\"multiply\",a * 2)\n",
    "print(\"divide\",a / 2)\n",
    "print(\"subtract\",a - 2)"
   ]
  },
  {
   "cell_type": "code",
   "execution_count": 141,
   "id": "52131faf-b8f5-4f1e-bc38-b9a8a1949043",
   "metadata": {},
   "outputs": [
    {
     "name": "stdout",
     "output_type": "stream",
     "text": [
      "[-3 -3 -3]\n",
      "[5 7 9]\n",
      "[0.25 0.4  0.5 ]\n",
      "[ 4 10 18]\n"
     ]
    }
   ],
   "source": [
    "#  operation between arrays (arithmatic opertion will be on corresponding elements)\n",
    "a = np.array([1,2,3])\n",
    "b = np.array([4,5,6])\n",
    "\n",
    "print(a -b )\n",
    "print(a  + b )\n",
    "print(a  / b )\n",
    "print(a * b )"
   ]
  },
  {
   "cell_type": "code",
   "execution_count": 143,
   "id": "69de5134-bfe9-4c2f-887a-3e56e8d2b805",
   "metadata": {},
   "outputs": [
    {
     "data": {
      "text/plain": [
       "array([1, 4, 9])"
      ]
     },
     "execution_count": 143,
     "metadata": {},
     "output_type": "execute_result"
    }
   ],
   "source": [
    "# square all elements in array\n",
    "a = np.array([1,2,3])\n",
    "a**2"
   ]
  },
  {
   "cell_type": "code",
   "execution_count": 147,
   "id": "6b8405e4-538f-4fa3-bd71-4c7acce6e844",
   "metadata": {},
   "outputs": [
    {
     "name": "stdout",
     "output_type": "stream",
     "text": [
      "[ 0.54030231 -0.41614684 -0.9899925 ]\n",
      "[0.84147098 0.90929743 0.14112001]\n"
     ]
    }
   ],
   "source": [
    "# sine, cosine,etc of array elements\n",
    "a = np.array([1,2,3])\n",
    "\n",
    "print(np.cos(a))\n",
    "print(np.sin(a))\n"
   ]
  },
  {
   "cell_type": "markdown",
   "id": "5009140e-33c0-41ee-8ae2-c3314031ddca",
   "metadata": {},
   "source": [
    "## Linear Algebra"
   ]
  },
  {
   "cell_type": "code",
   "execution_count": 7,
   "id": "65a1e2ec-3698-4f4a-b006-1309852ff083",
   "metadata": {},
   "outputs": [
    {
     "name": "stdout",
     "output_type": "stream",
     "text": [
      "a is \n",
      " [[1. 1. 1.]\n",
      " [1. 1. 1.]]\n",
      "b is \n",
      " [[3 3]\n",
      " [3 3]\n",
      " [3 3]]\n",
      "a * b is \n",
      " [[9. 9.]\n",
      " [9. 9.]]\n"
     ]
    }
   ],
   "source": [
    "a = np.ones((2,3))\n",
    "print(\"a is \\n\" , a)\n",
    "b = np.full((3,2), 3)\n",
    "print(\"b is \\n\" , b)\n",
    "\n",
    "print(\"a * b is \\n\" , np.matmul(a,b))\n",
    "\n"
   ]
  },
  {
   "cell_type": "code",
   "execution_count": 9,
   "id": "5b29fc0e-8cf5-4768-a9e5-f68e35817dbb",
   "metadata": {},
   "outputs": [
    {
     "data": {
      "text/plain": [
       "1.0"
      ]
     },
     "execution_count": 9,
     "metadata": {},
     "output_type": "execute_result"
    }
   ],
   "source": [
    "# Finding the determinant\n",
    "c = np.identity(3)\n",
    "np.linalg.det(c)"
   ]
  },
  {
   "cell_type": "markdown",
   "id": "31078f3d-0cf7-4b04-958d-3a06c643402d",
   "metadata": {},
   "source": [
    "### Statics"
   ]
  },
  {
   "cell_type": "code",
   "execution_count": 13,
   "id": "8f66b01c-9916-4acd-8265-1bc4876d6aca",
   "metadata": {},
   "outputs": [
    {
     "name": "stdout",
     "output_type": "stream",
     "text": [
      "min value  1\n",
      "max value  6\n"
     ]
    }
   ],
   "source": [
    "arr = np.array([[1,2,3],[4,5,6]]) \n",
    "min_value = np.min(arr)\n",
    "print(\"min value \",min_value )\n",
    "\n",
    "max_value = np.max(arr)\n",
    "print(\"max value \",max_value )"
   ]
  },
  {
   "cell_type": "code",
   "execution_count": 17,
   "id": "e3bcf40a-d790-4749-9687-f9e08b556946",
   "metadata": {},
   "outputs": [
    {
     "name": "stdout",
     "output_type": "stream",
     "text": [
      "min value along axis 1 [1 4]\n",
      "max value along axis 1 [3 6]\n",
      "min value along axis 0 [1 2 3]\n",
      "max value along axis 0 [4 5 6]\n"
     ]
    }
   ],
   "source": [
    "arr = np.array([[1,2,3],[4,5,6]])\n",
    "min_value = np.min(arr , axis = 1) # among (1,4) , (2,3) , (3,6)\n",
    "print(\"min value along axis 1\",min_value )\n",
    "\n",
    "max_value = np.max(arr,axis = 1) # among (1,4) , (2,3) , (3,6)\n",
    "print(\"max value along axis 1\",max_value )\n",
    "\n",
    "arr = np.array([[1,2,3],[4,5,6]])\n",
    "min_value = np.min(arr , axis = 0) # between (1,2,3) , (4,5,6)\n",
    "print(\"min value along axis 0\",min_value )\n",
    "\n",
    "max_value = np.max(arr,axis = 0) # between (1,2,3) , (4,5,6)\n",
    "print(\"max value along axis 0\",max_value )"
   ]
  },
  {
   "cell_type": "code",
   "execution_count": 21,
   "id": "6fe56a49-0ac0-4fd2-a3f2-5c56726e95e6",
   "metadata": {},
   "outputs": [
    {
     "name": "stdout",
     "output_type": "stream",
     "text": [
      "Total sum  21\n",
      "Total sum axis 0  [5 7 9]\n",
      "Total sum axis 1 [ 6 15]\n"
     ]
    }
   ],
   "source": [
    "# sum all elemements\n",
    "arr = np.array([[1,2,3],[4,5,6]])\n",
    "\n",
    "total_sum = np.sum(arr)\n",
    "print(\"Total sum \" ,total_sum)\n",
    "\n",
    "sum_0 = np.sum(arr , axis=0)\n",
    "sum_1 = np.sum(arr , axis=1)\n",
    "\n",
    "print(\"Total sum axis 0 \" ,sum_0)\n",
    "print(\"Total sum axis 1\" ,sum_1)\n"
   ]
  },
  {
   "cell_type": "markdown",
   "id": "d1c5f5d5-2315-4070-907c-c99586747d72",
   "metadata": {},
   "source": [
    "### Reorganizing Array"
   ]
  },
  {
   "cell_type": "code",
   "execution_count": 23,
   "id": "6485fc4f-ba5f-499f-a503-dfdb2bf6c8d8",
   "metadata": {},
   "outputs": [
    {
     "data": {
      "text/plain": [
       "array([[1, 2, 3, 4, 5, 6]])"
      ]
     },
     "execution_count": 23,
     "metadata": {},
     "output_type": "execute_result"
    }
   ],
   "source": [
    "# resizing vectors\n",
    "arr = np.array([[1,2,3],[4,5,6]])\n",
    "arr.reshape((1,6))"
   ]
  },
  {
   "cell_type": "code",
   "execution_count": 26,
   "id": "c3ce1b25-e7b6-4993-9fe9-8b8ce65ea081",
   "metadata": {},
   "outputs": [
    {
     "data": {
      "text/plain": [
       "array([[1, 2, 3],\n",
       "       [4, 5, 6]])"
      ]
     },
     "execution_count": 26,
     "metadata": {},
     "output_type": "execute_result"
    }
   ],
   "source": [
    "# vertical stack vectors\n",
    "v1 = np.array([1,2,3])\n",
    "v2 = np.array([4,5,6])\n",
    "\n",
    "np.vstack([v1,v2])"
   ]
  },
  {
   "cell_type": "code",
   "execution_count": 30,
   "id": "78129649-765a-4cfb-a3ad-421cc84404c3",
   "metadata": {},
   "outputs": [
    {
     "data": {
      "text/plain": [
       "array([[1., 1., 1., 1., 1., 1.],\n",
       "       [1., 1., 1., 1., 1., 1.]])"
      ]
     },
     "execution_count": 30,
     "metadata": {},
     "output_type": "execute_result"
    }
   ],
   "source": [
    "# horizontal stack\n",
    "v1  = np.ones((2,4))\n",
    "v2  = np.ones((2,2))\n",
    "\n",
    "np.hstack([v1,v2])"
   ]
  },
  {
   "cell_type": "markdown",
   "id": "e6ba4267-9e15-47eb-84c9-751be2deed0d",
   "metadata": {},
   "source": [
    "### Loading data"
   ]
  },
  {
   "cell_type": "code",
   "execution_count": 32,
   "id": "9728a90c-cb14-4fca-a181-6469945b6a7c",
   "metadata": {},
   "outputs": [
    {
     "data": {
      "text/plain": [
       "array([1., 2., 3., 4., 5., 6., 7.])"
      ]
     },
     "execution_count": 32,
     "metadata": {},
     "output_type": "execute_result"
    }
   ],
   "source": [
    "# data from file\n",
    "np.genfromtxt('data.txt', delimiter=\"\\n\")"
   ]
  },
  {
   "cell_type": "code",
   "execution_count": 34,
   "id": "09b701d4-c578-4ede-8c38-d69eb2a2537a",
   "metadata": {},
   "outputs": [
    {
     "data": {
      "text/plain": [
       "array([1, 2, 3, 4, 5, 6, 7], dtype=int32)"
      ]
     },
     "execution_count": 34,
     "metadata": {},
     "output_type": "execute_result"
    }
   ],
   "source": [
    "# convert datatype of loaded data\n",
    "np.genfromtxt('data.txt', delimiter=\"\\n\").astype('int32')"
   ]
  },
  {
   "cell_type": "markdown",
   "id": "8c8c1d9d-e454-4f94-8aa3-a861b8e1dda3",
   "metadata": {},
   "source": [
    "### Boolean Masking & Advanced Indexing"
   ]
  },
  {
   "cell_type": "code",
   "execution_count": 3,
   "id": "29bf6887-2c37-4079-a439-8078b8c1e6cd",
   "metadata": {},
   "outputs": [
    {
     "data": {
      "text/plain": [
       "array([False, False, False,  True,  True,  True,  True])"
      ]
     },
     "execution_count": 3,
     "metadata": {},
     "output_type": "execute_result"
    }
   ],
   "source": [
    "# comparing loaded data\n",
    "np.genfromtxt('data.txt') > 3"
   ]
  },
  {
   "cell_type": "code",
   "execution_count": 6,
   "id": "f2ca3340-6f81-49a7-8ce8-517cf0049222",
   "metadata": {},
   "outputs": [
    {
     "data": {
      "text/plain": [
       "array([2, 5, 7])"
      ]
     },
     "execution_count": 6,
     "metadata": {},
     "output_type": "execute_result"
    }
   ],
   "source": [
    "# accessing index 2,5,7 from array at once\n",
    "arr  = np.array([0,1,2,3,4,5,6,7,8,9])\n",
    "arr[[2,5,7]]"
   ]
  },
  {
   "cell_type": "code",
   "execution_count": 10,
   "id": "74e50a54-eb04-4cef-8723-f821ee4c2455",
   "metadata": {},
   "outputs": [
    {
     "name": "stdout",
     "output_type": "stream",
     "text": [
      "[[96 54 79 21]\n",
      " [32 32 34 59]\n",
      " [58  2 48 10]\n",
      " [48 31 32 47]]\n"
     ]
    },
    {
     "data": {
      "text/plain": [
       "array([[False,  True, False, False],\n",
       "       [ True,  True,  True,  True],\n",
       "       [ True, False,  True, False],\n",
       "       [ True,  True,  True,  True]])"
      ]
     },
     "execution_count": 10,
     "metadata": {},
     "output_type": "execute_result"
    }
   ],
   "source": [
    "# selecting values in range\n",
    "arr = np.random.randint(0,100,(4,4), dtype=\"int32\")\n",
    "print( arr )\n",
    "((arr > 25 ) & (arr < 75))"
   ]
  },
  {
   "cell_type": "code",
   "execution_count": 24,
   "id": "41ecd652-0601-4f73-9818-2b233dcf8ef9",
   "metadata": {},
   "outputs": [
    {
     "data": {
      "text/plain": [
       "array([ 7, 13, 19, 25])"
      ]
     },
     "execution_count": 24,
     "metadata": {},
     "output_type": "execute_result"
    }
   ],
   "source": [
    "arr = np.arange(1,31).reshape(6,5)\n",
    "#  getting diagonal elements\n",
    "arr[[1,2,3,4] , [1,2,3,4]]"
   ]
  }
 ],
 "metadata": {
  "kernelspec": {
   "display_name": "Python 3 (ipykernel)",
   "language": "python",
   "name": "python3"
  },
  "language_info": {
   "codemirror_mode": {
    "name": "ipython",
    "version": 3
   },
   "file_extension": ".py",
   "mimetype": "text/x-python",
   "name": "python",
   "nbconvert_exporter": "python",
   "pygments_lexer": "ipython3",
   "version": "3.8.10"
  }
 },
 "nbformat": 4,
 "nbformat_minor": 5
}
