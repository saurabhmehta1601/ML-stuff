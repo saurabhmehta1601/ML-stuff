{
 "cells": [
  {
   "cell_type": "code",
   "execution_count": 3,
   "id": "216bc7a8-2a65-411f-90a2-82cf202568e5",
   "metadata": {},
   "outputs": [],
   "source": [
    "import numpy as np\n",
    "import pandas as pd"
   ]
  },
  {
   "cell_type": "code",
   "execution_count": 6,
   "id": "1d348724-b1c1-4afb-a321-4fddf971e28f",
   "metadata": {},
   "outputs": [
    {
     "data": {
      "text/plain": [
       "0          1\n",
       "1          5\n",
       "2       7872\n",
       "3         23\n",
       "4    saurabh\n",
       "dtype: object"
      ]
     },
     "execution_count": 6,
     "metadata": {},
     "output_type": "execute_result"
    }
   ],
   "source": [
    "# creating a series\n",
    "pd.Series([1,5,7872,23,\"saurabh\"])"
   ]
  },
  {
   "cell_type": "code",
   "execution_count": 9,
   "id": "93d18c14-2ac2-456f-a254-b3affeefeadf",
   "metadata": {},
   "outputs": [
    {
     "data": {
      "text/plain": [
       "DatetimeIndex(['2023-01-07', '2023-01-08', '2023-01-09', '2023-01-10',\n",
       "               '2023-01-11', '2023-01-12'],\n",
       "              dtype='datetime64[ns]', freq='D')"
      ]
     },
     "execution_count": 9,
     "metadata": {},
     "output_type": "execute_result"
    }
   ],
   "source": [
    "#  date range\n",
    "pd.date_range(\"20230107\", periods= 6)"
   ]
  },
  {
   "cell_type": "code",
   "execution_count": 22,
   "id": "07913a65-fb09-4fbc-acf3-46aba6336e2b",
   "metadata": {},
   "outputs": [
    {
     "name": "stdout",
     "output_type": "stream",
     "text": [
      "*******dataframe**********\n",
      "     A          B    C  D      E\n",
      "0  1.0 2013-01-02  1.0  3   test\n",
      "1  1.0 2013-01-02  1.0  3  train\n",
      "2  1.0 2013-01-02  1.0  3   test\n",
      "3  1.0 2013-01-02  1.0  3  train\n",
      "**********data types***********\n",
      "A           float64\n",
      "B    datetime64[ns]\n",
      "C           float32\n",
      "D             int32\n",
      "E          category\n",
      "dtype: object\n"
     ]
    }
   ],
   "source": [
    "df2 = pd.DataFrame({\n",
    "           \"A\": 1.0,\n",
    "           \"B\": pd.Timestamp(\"20130102\"),\n",
    "           \"C\": pd.Series(1, index=list(range(4)), dtype=\"float32\"),\n",
    "           \"D\": np.array([3] * 4, dtype=\"int32\"),\n",
    "           \"E\": pd.Categorical([\"test\", \"train\", \"test\", \"train\"]),\n",
    "})\n",
    "print(\"*******dataframe**********\")\n",
    "print(df2)\n",
    "print(\"**********data types***********\")\n",
    "print(df2.dtypes)\n"
   ]
  },
  {
   "cell_type": "code",
   "execution_count": 16,
   "id": "a6bb38ea-1dad-4110-a984-b441922b9540",
   "metadata": {},
   "outputs": [
    {
     "data": {
      "text/plain": [
       "array([3, 3, 3, 3])"
      ]
     },
     "execution_count": 16,
     "metadata": {},
     "output_type": "execute_result"
    }
   ],
   "source": []
  }
 ],
 "metadata": {
  "kernelspec": {
   "display_name": "Python 3 (ipykernel)",
   "language": "python",
   "name": "python3"
  },
  "language_info": {
   "codemirror_mode": {
    "name": "ipython",
    "version": 3
   },
   "file_extension": ".py",
   "mimetype": "text/x-python",
   "name": "python",
   "nbconvert_exporter": "python",
   "pygments_lexer": "ipython3",
   "version": "3.8.10"
  }
 },
 "nbformat": 4,
 "nbformat_minor": 5
}
